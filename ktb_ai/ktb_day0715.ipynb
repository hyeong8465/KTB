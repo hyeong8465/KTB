{
  "nbformat": 4,
  "nbformat_minor": 0,
  "metadata": {
    "colab": {
      "provenance": [],
      "authorship_tag": "ABX9TyObReBpptYWO5ASqocck3rt",
      "include_colab_link": true
    },
    "kernelspec": {
      "name": "python3",
      "display_name": "Python 3"
    },
    "language_info": {
      "name": "python"
    }
  },
  "cells": [
    {
      "cell_type": "markdown",
      "metadata": {
        "id": "view-in-github",
        "colab_type": "text"
      },
      "source": [
        "<a href=\"https://colab.research.google.com/github/hyeong8465/KTB/blob/main/ktb_ai/ktb_day0715.ipynb\" target=\"_parent\"><img src=\"https://colab.research.google.com/assets/colab-badge.svg\" alt=\"Open In Colab\"/></a>"
      ]
    },
    {
      "cell_type": "code",
      "execution_count": 1,
      "metadata": {
        "colab": {
          "base_uri": "https://localhost:8080/",
          "height": 214
        },
        "id": "LD8rq3FDsivf",
        "outputId": "32f72c28-1058-4b4b-9670-ed0cb518b6f6"
      },
      "outputs": [
        {
          "output_type": "execute_result",
          "data": {
            "text/plain": [
              "'\\n머신러닝2\\n- 지도학습\\n레이블이 있는 데이터를 기반으로 학습\\n과대적합 해결: regularization, CV, pruning, ensemble\\n과소적합 해결: 더 복잡한 모델, Feature engineering, 데이터 수집\\n\\n- KNN\\nk개의 이웃을 기반으로 결정을 내리는 알고리즘\\n분류, 회귀에 모두 사용\\n학습 과정이 없다.\\n특징: 비모수적 방법, 메모리 기반, 단순\\n\\n- 로지스틱 회귀\\n분류, 확률 출력\\n선형 결정 경계\\n\\n- 서포트 벡터 머신 SVM\\n데이터를 분리하는 최적의 초평면을 찾는 지도학습 알고리즘\\n비선형 데이터에 대해서도 작동\\n초평면과 서포트 벡터 사이의 거리(마진)를 최대화하는 방식으로 학습\\n학습 시간 길다, 하이퍼파라미터 튜닝, 확장성 떨어짐\\n\\n- 결정 트리\\n특성들을 기반으로 데이터를 분할하여 예측을 수행(분류, 회귀)\\n직관적, 비모수적 방법, 해석 용이, 스케일링이나 정규화가 필요하지 않음\\n데이터 분할은 정보 이득이나 지니 불순도 등을 사용하여 결정\\n과적합, 변동성, 복잡성\\n\\n- 랜덤포레스트\\n트리를 결합하여 예측 성능 향상시키는 알고리즘\\n서로 다른 부분집합의 데이터와 특성을 사용하여 다양성을 갖추게 됨\\n개별 결정 트리의 과적합을 줄이고, 일반화 성능을 향상\\n부트스트랩을 적용하여 여러 개의 데이터 셋 생성, 랜덤 특성\\n메모리 사용량이 높다.\\n\\n- 신경망(다층 퍼셉트론)\\n인공 신경망의 한 종류\\n활성화 함수는 뉴런의 출력을 비선형으로 변환하는 역할\\n비선형성, 표현력, 유연성, 계산 비용, 과적합, 해석 난해\\n\\n\\n'"
            ],
            "application/vnd.google.colaboratory.intrinsic+json": {
              "type": "string"
            }
          },
          "metadata": {},
          "execution_count": 1
        }
      ],
      "source": [
        "'''\n",
        "머신러닝2\n",
        "- 지도학습\n",
        "레이블이 있는 데이터를 기반으로 학습\n",
        "과대적합 해결: regularization, CV, pruning, ensemble\n",
        "과소적합 해결: 더 복잡한 모델, Feature engineering, 데이터 수집\n",
        "\n",
        "- KNN\n",
        "k개의 이웃을 기반으로 결정을 내리는 알고리즘\n",
        "분류, 회귀에 모두 사용\n",
        "학습 과정이 없다.\n",
        "특징: 비모수적 방법, 메모리 기반, 단순\n",
        "\n",
        "- 로지스틱 회귀\n",
        "분류, 확률 출력\n",
        "선형 결정 경계\n",
        "\n",
        "- 서포트 벡터 머신 SVM\n",
        "데이터를 분리하는 최적의 초평면을 찾는 지도학습 알고리즘\n",
        "비선형 데이터에 대해서도 작동\n",
        "초평면과 서포트 벡터 사이의 거리(마진)를 최대화하는 방식으로 학습\n",
        "학습 시간 길다, 하이퍼파라미터 튜닝, 확장성 떨어짐\n",
        "\n",
        "- 결정 트리\n",
        "특성들을 기반으로 데이터를 분할하여 예측을 수행(분류, 회귀)\n",
        "직관적, 비모수적 방법, 해석 용이, 스케일링이나 정규화가 필요하지 않음\n",
        "데이터 분할은 정보 이득이나 지니 불순도 등을 사용하여 결정\n",
        "과적합, 변동성, 복잡성\n",
        "\n",
        "- 랜덤포레스트\n",
        "트리를 결합하여 예측 성능 향상시키는 알고리즘\n",
        "서로 다른 부분집합의 데이터와 특성을 사용하여 다양성을 갖추게 됨\n",
        "개별 결정 트리의 과적합을 줄이고, 일반화 성능을 향상\n",
        "부트스트랩을 적용하여 여러 개의 데이터 셋 생성, 랜덤 특성\n",
        "메모리 사용량이 높다.\n",
        "\n",
        "- 신경망(다층 퍼셉트론)\n",
        "인공 신경망의 한 종류\n",
        "활성화 함수는 뉴런의 출력을 비선형으로 변환하는 역할\n",
        "비선형성, 표현력, 유연성, 계산 비용, 과적합, 해석 난해\n",
        "\n",
        "\n",
        "'''"
      ]
    }
  ]
}