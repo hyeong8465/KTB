{
  "nbformat": 4,
  "nbformat_minor": 0,
  "metadata": {
    "colab": {
      "provenance": [],
      "authorship_tag": "ABX9TyPXmMQptAs0+ztLPbSjSKWi",
      "include_colab_link": true
    },
    "kernelspec": {
      "name": "python3",
      "display_name": "Python 3"
    },
    "language_info": {
      "name": "python"
    }
  },
  "cells": [
    {
      "cell_type": "markdown",
      "metadata": {
        "id": "view-in-github",
        "colab_type": "text"
      },
      "source": [
        "<a href=\"https://colab.research.google.com/github/hyeong8465/KTB/blob/main/ktb_ai/ktb_day0729.ipynb\" target=\"_parent\"><img src=\"https://colab.research.google.com/assets/colab-badge.svg\" alt=\"Open In Colab\"/></a>"
      ]
    },
    {
      "cell_type": "code",
      "execution_count": null,
      "metadata": {
        "id": "sAFQ0fiCw7Dr"
      },
      "outputs": [],
      "source": [
        "'''\n",
        "생성형 ai 3\n",
        "\n",
        "- LLM (Large Language Model)\n",
        "LLM 대규모 텍스트 데이터를 학습하여 자연어 이해와 생성을 할 수 있는 인공지능 모델, 최근 LLM은 트랜스포머 아키텍처 사용\n",
        "사전 학습(대규모 코퍼스를 사용하여 언어의 일반적인 패턴과 구조 학습), 미세 조정(특정 작업에 맞게 추가 학습)\n",
        "\n",
        "언어(확률)모델: 주어진 텍스트의 다음 단어를 예측하는 모델\n",
        "\n",
        "언어 모델링 방법에 따른 종류\n",
        "    자가회귀 모델(Autogressive model)\n",
        "        이전 단어들을 기반으로 다음 단어를 순차적으로 예측하느 ㄴ모델\n",
        "        GPT 시리즈(GPT-1,-2,-3)\n",
        "        텍스트 생성, 번역, 대화형 AI 등\n",
        "    마스크드 언어 모델(Masked Language Model)\n",
        "        문장의 일부 단어를 마스킹하고 마스킹된 단어를 예측하는 모델\n",
        "        BERT(Bidirectional Encoder Representations from Transformers)\n",
        "        텍스트 분류, 질문 응답, 자연어 추론 등\n",
        "\n",
        "언어 모델 평가\n",
        "    퍼플렉시티(Perplextity)\n",
        "        모델이 주어진 텍스트를 얼마나 잘 예측하는지\n",
        "        예측 확률의 역수의 기하평균\n",
        "    BLEU(Bilingual Evaluation Understudy)\n",
        "        생성된 텍스트와 참조 텍스트 간의 유사성을 측정\n",
        "        기계 번역, 텍스트 요약 등\n",
        "\n",
        "- ChatGPT\n",
        "OpenAI에서 개발한 대규모 언어 모델 GPT 시리즈를 기반으로 한 대화형 인공지능\n",
        "다양한 분야의 실무에서 활용되고 있음\n",
        "\n",
        "데이터 프라이버시 및 보안 문제\n",
        "    대화의 맥락을 기억하기 때문에 이전 고객의 정보를 기억하거나,\n",
        "    해당 고객의 정보를 Context상에 갖고 있어서 바로 처리하게 될 수 있음\n",
        "비용 문제\n",
        "    BM에 비해 토큰이 과하게 소비되는 경우\n",
        "    어뷰징으로 인한 비용 상승\n",
        "정확성 및 신뢰성 부족\n",
        "    의료 분야의 잘못된 조언\n",
        "    다양한 상품과 매겨져 있는 가격 설정을 혼동하는 경우\n",
        "\n",
        "- RAG(Retrieve Augmented Generation)\n",
        "정보 검색과 텍스트 생성을 결합한 하이브리드 언어 모델 아키텍처\n",
        "특정 질의에 대해 외부 지식 베이스에서 관련 정보를 검색한 후, 이 정보를 기반으로 텍스트를 생성\n",
        "정보가 풍부한 응답을 생성하는 데 유리\n",
        "\n",
        "RAG의 주요 구조\n",
        "Retrieve\n",
        "    외부 지식 베이스에서 질의와 관련된 정보를 검색\n",
        "    쿼리와 문서의 임베딩을 생성하고, 임베딩 간의 유사성을 계산하여 관련 문서 검색\n",
        "Augmented\n",
        "    검색된 문서를 기반으로 입력 쿼리 강화\n",
        "Generate\n",
        "    입력 질의 또는 검색된 문서등을 기반으로 자연스러운 텍스트 생성\n",
        "\n",
        "RAG의 작동 원리\n",
        "    쿼리 임베딩 생성 -> 문서 검색 -> 문서 임베딩 생성 -> 문서-쿼리 결합 -> 텍스트 생성\n",
        "\n",
        "RAG의 장점\n",
        "    외부 지식 베이스를 활용하여 더 풍부하고 정확한 정보 제공\n",
        "    다양한 데이터 소스를 결합하여 더 광범위한 지식을 응답에 포함\n",
        "    단순한 생성 모델보다 더 정확하고 정보가 풍부한 응답을 생성\n",
        "    내부 LLM모델로 구성하는 경우 보안, 프라이버시 위협에서 어느정도 벗어날 수 있음\n",
        "    파인튜닝보다 효율적으로 특화 도메인에 대응 가능\n",
        "\n",
        "RAG의 단점\n",
        "    검색과 생성을 결합하는 과정이 복잡하며, 모델 학습 및 튜닝이 어려움\n",
        "    임베딩 생성, 문서 검색, 텍스트 생성 등 모든 단계에서 높은 연산 자원이 필요\n",
        "    외부 지식 베이스의 품질과 최신성에 크게 의존\n",
        "\n",
        "- RAG 프레임워크\n",
        "직접 구현\n",
        "    임베딩(TF-IDF, 임베딩 모델)\n",
        "    정보저장 및 검색(RDBMS, NoSQL, VectorDB, ...)\n",
        "    LLM(Llama, ChatGPT, Phi, ...)\n",
        "\n",
        "Langchain\n",
        "    대규모 언어 모델을 활용한 복잡한 언어 처리 파이프라인을 구축하기 위한 프레임워크\n",
        "    다양한 언어 모델과 검색 기법을 결합하여 효율적이고 확장 가능한 자연어 처리(NLP) 시스템을 구축하는 데 중점\n",
        "    검색 및 생성을 독립적인 모듈로 구현할 수 있는 구조 제공 즉, 각 구성 요소를 독립적으로 개발, 테스트, 배포 가능\n",
        "    다양한 데이터 소스와 검색 방법을 쉽게 통합하는 기능 제공\n",
        "    데이터를 처리하고 변환하는 파이프라인 유연하게 구성 가능\n",
        "    특정 요구 사항에 맞게 데이터를 전처리하고, 검색 및 생성 단계 조정 가능\n",
        "    학습, 평가, 배포를 위한 도구와 기능을 포함한 통합 환경을 제공\n",
        "구조: 데이터 소스, 검색 모듈, 생성 모듈, 파이프라인 관리\n",
        "\n",
        "LlamaIndex\n",
        "    대규모 언어 모델을 기반으로 한 검색 및 생성 작업을 지원하는 프레임워크\n",
        "    대규모 데이터셋을 효율적으로 인덱싱하고, 고성능 검색기능을 제공하는 데 중점\n",
        "    다양한 검색 알고리즘과 언어 모델을 쉽게 통합\n",
        "    문서와 쿼리의 임베딩을 생성하고, 유사성을 계산하여 관련 문서 검색\n",
        "구조: 데이터 인덱싱, 쿼리 처리 및 검색, 텍스트 생성, 파이프라인 관리\n",
        "\n",
        "Langchain VS LlamaIndex\n",
        "    Langchain은 다양한 응용 분야에서 유연하게 활용할 수 있고, LlamaIndex는 대규모 데이터셋 기반의 고성능 검색 작업에 적합\n",
        "\n",
        "- RAG 최신동향\n",
        "SELF-RAG\n",
        "    RAG 시스템의 생성 품질과 사실성 개선\n",
        "    필요할 때마다 검색하고 생성한 내용을 자체 반성하여 평가하는 reflection 토큰 사용\n",
        "    reflection 토큰을 통해 검색 빈도를 조정하고 사용자 선호도에 맞게 모델 행동 학습\n",
        "\n",
        "Adaptive RAG\n",
        "    쿼리 복잡도에 따라 가장 적절한 전략을 동적으로 선택하는 Adaptive-RAG 프레임워크 적용\n",
        "    다양한 복잡도의 쿼리를 처리하기 위해 적응형 RAG 시스템을 제안\n",
        "    쿼리 복잡도에 따라 효율성과 정확성을 균형 있게 향상\n",
        "\n",
        "새로운 연구와 논문이 계속 나오는 중, 논문을 읽고 합리적이라면 적용 추천\n",
        "'''"
      ]
    },
    {
      "cell_type": "markdown",
      "source": [
        "# 실습\n",
        "1. Langchain을 통해 RAG 구성해보기\n",
        "2. LlamaIndex를 통해 RAG 구성해보기\n",
        "3. 프레임워크를 사용하지 않고 RAG를 구성해보기"
      ],
      "metadata": {
        "id": "1rrEZaeRIQIf"
      }
    },
    {
      "cell_type": "markdown",
      "source": [
        "## 1.Langchain을 통해 RAG 구성\n",
        "langchain의 tutorials > build a retrieval augmented generation(RAG) app\n",
        "https://python.langchain.com/v0.2/docs/tutorials/rag/#retrieval-and-generation"
      ],
      "metadata": {
        "id": "xmdG0KBQTS0z"
      }
    },
    {
      "cell_type": "code",
      "source": [
        "! pip install langchain\n",
        "! pip install -qU langchain-google-vertexai"
      ],
      "metadata": {
        "colab": {
          "base_uri": "https://localhost:8080/"
        },
        "id": "Ty4xzkGwTJZ9",
        "outputId": "b6a23a59-503c-43a2-98e0-f5612f299bd5"
      },
      "execution_count": 1,
      "outputs": [
        {
          "output_type": "stream",
          "name": "stdout",
          "text": [
            "Requirement already satisfied: langchain in /usr/local/lib/python3.10/dist-packages (0.2.11)\n",
            "Requirement already satisfied: PyYAML>=5.3 in /usr/local/lib/python3.10/dist-packages (from langchain) (6.0.1)\n",
            "Requirement already satisfied: SQLAlchemy<3,>=1.4 in /usr/local/lib/python3.10/dist-packages (from langchain) (2.0.31)\n",
            "Requirement already satisfied: aiohttp<4.0.0,>=3.8.3 in /usr/local/lib/python3.10/dist-packages (from langchain) (3.9.5)\n",
            "Requirement already satisfied: async-timeout<5.0.0,>=4.0.0 in /usr/local/lib/python3.10/dist-packages (from langchain) (4.0.3)\n",
            "Requirement already satisfied: langchain-core<0.3.0,>=0.2.23 in /usr/local/lib/python3.10/dist-packages (from langchain) (0.2.24)\n",
            "Requirement already satisfied: langchain-text-splitters<0.3.0,>=0.2.0 in /usr/local/lib/python3.10/dist-packages (from langchain) (0.2.2)\n",
            "Requirement already satisfied: langsmith<0.2.0,>=0.1.17 in /usr/local/lib/python3.10/dist-packages (from langchain) (0.1.93)\n",
            "Requirement already satisfied: numpy<2,>=1 in /usr/local/lib/python3.10/dist-packages (from langchain) (1.25.2)\n",
            "Requirement already satisfied: pydantic<3,>=1 in /usr/local/lib/python3.10/dist-packages (from langchain) (2.8.2)\n",
            "Requirement already satisfied: requests<3,>=2 in /usr/local/lib/python3.10/dist-packages (from langchain) (2.31.0)\n",
            "Requirement already satisfied: tenacity!=8.4.0,<9.0.0,>=8.1.0 in /usr/local/lib/python3.10/dist-packages (from langchain) (8.5.0)\n",
            "Requirement already satisfied: aiosignal>=1.1.2 in /usr/local/lib/python3.10/dist-packages (from aiohttp<4.0.0,>=3.8.3->langchain) (1.3.1)\n",
            "Requirement already satisfied: attrs>=17.3.0 in /usr/local/lib/python3.10/dist-packages (from aiohttp<4.0.0,>=3.8.3->langchain) (23.2.0)\n",
            "Requirement already satisfied: frozenlist>=1.1.1 in /usr/local/lib/python3.10/dist-packages (from aiohttp<4.0.0,>=3.8.3->langchain) (1.4.1)\n",
            "Requirement already satisfied: multidict<7.0,>=4.5 in /usr/local/lib/python3.10/dist-packages (from aiohttp<4.0.0,>=3.8.3->langchain) (6.0.5)\n",
            "Requirement already satisfied: yarl<2.0,>=1.0 in /usr/local/lib/python3.10/dist-packages (from aiohttp<4.0.0,>=3.8.3->langchain) (1.9.4)\n",
            "Requirement already satisfied: jsonpatch<2.0,>=1.33 in /usr/local/lib/python3.10/dist-packages (from langchain-core<0.3.0,>=0.2.23->langchain) (1.33)\n",
            "Requirement already satisfied: packaging<25,>=23.2 in /usr/local/lib/python3.10/dist-packages (from langchain-core<0.3.0,>=0.2.23->langchain) (24.1)\n",
            "Requirement already satisfied: orjson<4.0.0,>=3.9.14 in /usr/local/lib/python3.10/dist-packages (from langsmith<0.2.0,>=0.1.17->langchain) (3.10.6)\n",
            "Requirement already satisfied: annotated-types>=0.4.0 in /usr/local/lib/python3.10/dist-packages (from pydantic<3,>=1->langchain) (0.7.0)\n",
            "Requirement already satisfied: pydantic-core==2.20.1 in /usr/local/lib/python3.10/dist-packages (from pydantic<3,>=1->langchain) (2.20.1)\n",
            "Requirement already satisfied: typing-extensions>=4.6.1 in /usr/local/lib/python3.10/dist-packages (from pydantic<3,>=1->langchain) (4.12.2)\n",
            "Requirement already satisfied: charset-normalizer<4,>=2 in /usr/local/lib/python3.10/dist-packages (from requests<3,>=2->langchain) (3.3.2)\n",
            "Requirement already satisfied: idna<4,>=2.5 in /usr/local/lib/python3.10/dist-packages (from requests<3,>=2->langchain) (3.7)\n",
            "Requirement already satisfied: urllib3<3,>=1.21.1 in /usr/local/lib/python3.10/dist-packages (from requests<3,>=2->langchain) (2.0.7)\n",
            "Requirement already satisfied: certifi>=2017.4.17 in /usr/local/lib/python3.10/dist-packages (from requests<3,>=2->langchain) (2024.7.4)\n",
            "Requirement already satisfied: greenlet!=0.4.17 in /usr/local/lib/python3.10/dist-packages (from SQLAlchemy<3,>=1.4->langchain) (3.0.3)\n",
            "Requirement already satisfied: jsonpointer>=1.9 in /usr/local/lib/python3.10/dist-packages (from jsonpatch<2.0,>=1.33->langchain-core<0.3.0,>=0.2.23->langchain) (3.0.0)\n"
          ]
        }
      ]
    },
    {
      "cell_type": "code",
      "source": [
        "# logging을 위한 langsmith 적용\n",
        "import getpass\n",
        "import os\n",
        "\n",
        "os.environ[\"LANGCHAIN_TRACING_V2\"] = \"true\"\n",
        "os.environ[\"LANGCHAIN_API_KEY\"] = getpass.getpass()"
      ],
      "metadata": {
        "colab": {
          "base_uri": "https://localhost:8080/"
        },
        "id": "_tq5pA34IbPD",
        "outputId": "257b7a81-a788-4730-e673-880096f87a1e"
      },
      "execution_count": 2,
      "outputs": [
        {
          "name": "stdout",
          "output_type": "stream",
          "text": [
            "··········\n"
          ]
        }
      ]
    },
    {
      "cell_type": "code",
      "source": [
        "# google Gemini api 사용\n",
        "import getpass\n",
        "import os\n",
        "\n",
        "os.environ[\"GOOGLE_API_KEY\"] = getpass.getpass()\n",
        "\n",
        "from langchain_google_vertexai import ChatVertexAI\n",
        "\n",
        "model = ChatVertexAI(model=\"gemini-1.5-flash\", project = 'gen-lang-client-0699406071')"
      ],
      "metadata": {
        "colab": {
          "base_uri": "https://localhost:8080/"
        },
        "id": "gncObsXcai_j",
        "outputId": "094db5b8-f872-47ac-e154-0d8a645bb7e3"
      },
      "execution_count": 3,
      "outputs": [
        {
          "name": "stdout",
          "output_type": "stream",
          "text": [
            "··········\n"
          ]
        }
      ]
    },
    {
      "cell_type": "code",
      "source": [
        "from google.colab import auth\n",
        "auth.authenticate_user()"
      ],
      "metadata": {
        "id": "X31pQ000fjvK"
      },
      "execution_count": 11,
      "outputs": []
    },
    {
      "cell_type": "code",
      "source": [
        "#runnables\n",
        "from langchain_core.messages import HumanMessage\n",
        "\n",
        "# 대화 인풋\n",
        "model.invoke([HumanMessage(content=\"Hi! I'm Bob\")])"
      ],
      "metadata": {
        "colab": {
          "base_uri": "https://localhost:8080/"
        },
        "id": "r6pYKsHubLSV",
        "outputId": "20a50b9e-2165-4895-a5ab-5f5ca42e9404"
      },
      "execution_count": 5,
      "outputs": [
        {
          "output_type": "execute_result",
          "data": {
            "text/plain": [
              "AIMessage(content=\"Hi Bob! 👋 It's nice to meet you.  What can I do for you today? 😊 \\n\", response_metadata={'is_blocked': False, 'safety_ratings': [{'category': 'HARM_CATEGORY_HATE_SPEECH', 'probability_label': 'NEGLIGIBLE', 'blocked': False, 'severity': 'HARM_SEVERITY_NEGLIGIBLE'}, {'category': 'HARM_CATEGORY_DANGEROUS_CONTENT', 'probability_label': 'NEGLIGIBLE', 'blocked': False, 'severity': 'HARM_SEVERITY_NEGLIGIBLE'}, {'category': 'HARM_CATEGORY_HARASSMENT', 'probability_label': 'NEGLIGIBLE', 'blocked': False, 'severity': 'HARM_SEVERITY_NEGLIGIBLE'}, {'category': 'HARM_CATEGORY_SEXUALLY_EXPLICIT', 'probability_label': 'NEGLIGIBLE', 'blocked': False, 'severity': 'HARM_SEVERITY_NEGLIGIBLE'}], 'usage_metadata': {'prompt_token_count': 6, 'candidates_token_count': 24, 'total_token_count': 30}}, id='run-2da518dd-7c8e-4683-9c75-bdbfaa82d828-0', usage_metadata={'input_tokens': 6, 'output_tokens': 24, 'total_tokens': 30})"
            ]
          },
          "metadata": {},
          "execution_count": 5
        }
      ]
    },
    {
      "cell_type": "code",
      "source": [
        "model.invoke([HumanMessage(content=\"What's my name?\")])"
      ],
      "metadata": {
        "colab": {
          "base_uri": "https://localhost:8080/"
        },
        "id": "hUYcSyeUeQlB",
        "outputId": "04560b1d-d378-43b6-f91e-30aad19fb292"
      },
      "execution_count": 6,
      "outputs": [
        {
          "output_type": "execute_result",
          "data": {
            "text/plain": [
              "AIMessage(content=\"As an AI, I don't have access to personal information like your name.  To find out your name, you can ask someone who knows you or check your identification documents. 😊 \\n\", response_metadata={'is_blocked': False, 'safety_ratings': [{'category': 'HARM_CATEGORY_HATE_SPEECH', 'probability_label': 'NEGLIGIBLE', 'blocked': False, 'severity': 'HARM_SEVERITY_NEGLIGIBLE'}, {'category': 'HARM_CATEGORY_DANGEROUS_CONTENT', 'probability_label': 'NEGLIGIBLE', 'blocked': False, 'severity': 'HARM_SEVERITY_NEGLIGIBLE'}, {'category': 'HARM_CATEGORY_HARASSMENT', 'probability_label': 'NEGLIGIBLE', 'blocked': False, 'severity': 'HARM_SEVERITY_NEGLIGIBLE'}, {'category': 'HARM_CATEGORY_SEXUALLY_EXPLICIT', 'probability_label': 'NEGLIGIBLE', 'blocked': False, 'severity': 'HARM_SEVERITY_NEGLIGIBLE'}], 'usage_metadata': {'prompt_token_count': 6, 'candidates_token_count': 40, 'total_token_count': 46}}, id='run-730e4984-9d72-4e63-b412-79f986f4c433-0', usage_metadata={'input_tokens': 6, 'output_tokens': 40, 'total_tokens': 46})"
            ]
          },
          "metadata": {},
          "execution_count": 6
        }
      ]
    },
    {
      "cell_type": "code",
      "source": [],
      "metadata": {
        "id": "2lo6hFu3r8Fj"
      },
      "execution_count": null,
      "outputs": []
    }
  ]
}