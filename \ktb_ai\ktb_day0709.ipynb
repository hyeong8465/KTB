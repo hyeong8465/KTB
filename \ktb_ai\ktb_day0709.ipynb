{
  "nbformat": 4,
  "nbformat_minor": 0,
  "metadata": {
    "colab": {
      "provenance": [],
      "authorship_tag": "ABX9TyOOCPQuV+OundpOlaoOU/rQ",
      "include_colab_link": true
    },
    "kernelspec": {
      "name": "python3",
      "display_name": "Python 3"
    },
    "language_info": {
      "name": "python"
    }
  },
  "cells": [
    {
      "cell_type": "markdown",
      "metadata": {
        "id": "view-in-github",
        "colab_type": "text"
      },
      "source": [
        "<a href=\"https://colab.research.google.com/github/hyeong8465/KTB/blob/main/%5Cktb_ai%5Cktb_day0709.ipynb\" target=\"_parent\"><img src=\"https://colab.research.google.com/assets/colab-badge.svg\" alt=\"Open In Colab\"/></a>"
      ]
    },
    {
      "cell_type": "code",
      "execution_count": null,
      "metadata": {
        "id": "bV3eQfMez5lx"
      },
      "outputs": [],
      "source": [
        "'''\n",
        "데이터 분석 2\n",
        "- 시계열 데이터\n",
        "시계열 데이터: 추세, 계절성, 주기성, 잡음\n",
        "시계열 분해: 추세 + 계절성 + 주기성 + 잡음\n",
        "ARIMA 모델\n",
        "분석 모델도 다르고 아예 다른 전담 직군도 있음.\n",
        "결측치는 특정 시점의 데이터가 없음을 의미하고, 문제가 됨. -> 보간법과 같이 대체하여 처리\n",
        "이상치는 일관성 없는 데이터 포인트 -> 제거 or not, Z-score나 IQR 방법 사용\n",
        "차분을 통해 데이터 안정화\n",
        "\n",
        "- 다변량 분석\n",
        "두 개 이상의 변수를 동시에 분석\n",
        "\n",
        "상관분석\n",
        "    (모수)피어슨: 정규분포 가정, 선형 관계\n",
        "    (비모수)스피어만: 순위형 데이터에 사용, 비선형 관계\n",
        "주성분 분석(PCA)\n",
        "    차원축소 기법\n",
        "    데이터 시각화, 노이즈 제거, 특성 추출과 데이터 압축에 사용\n",
        "요인 분석 -> 연구에 많이 사용\n",
        "    잠재 요인으로 요약, 데이터 내 잠재적 구조를 모델링 하는데 초점, 데이터에 대한 이해\n",
        "    변수 축소, 불필요한 변수 제거, 변수 특성 파악에 사용\n",
        "\n",
        "- 실시간 데이터 분석\n",
        "데이터 생성과 동시에 지속적으로 분석\n",
        "연속성, 변동성, 속도\n",
        "실시간 분석: 분석 파이프라인, 즉각적 의사결정, 성능 모니터링\n",
        "툴: apache kafka, apache storm, apache flink, ...\n",
        "실시간 데이터를 수집할 수 없으니 시나리오를 만들어서 연습하는 것 추천\n",
        "\n",
        "- 데이터 기반 의사결정\n",
        "신뢰할 수 있는 수집과 분석이 필요함.\n",
        "\n",
        "- 데이터 윤리 및 법적 고려사항\n",
        "\n",
        "'''"
      ]
    }
  ]
}